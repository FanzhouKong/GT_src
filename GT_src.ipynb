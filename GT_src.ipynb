{
 "cells": [
  {
   "cell_type": "code",
   "execution_count": 1,
   "metadata": {
    "collapsed": true,
    "pycharm": {
     "name": "#%%\n"
    }
   },
   "outputs": [],
   "source": [
    "from mimas.alphapept.find_features import find_features\n",
    "from mimas.alphapept.load_mzml_data import load_mzml_data\n",
    "from mimas.alphapept.find_features import find_features\n",
    "import pandas as pd\n",
    "import os\n",
    "from toolsets.search import quick_search_sorted\n",
    "\n",
    "def map_features(feature_mix, std_list_mix, adducts):\n",
    "    feature_mix.sort_values(by = 'mz', inplace=True, ascending=True)\n",
    "    mix_matched = pd.DataFrame()\n",
    "    for index, row in std_list_mix.iterrows():\n",
    "        compound_matched = pd.DataFrame()\n",
    "\n",
    "        for a in adducts:\n",
    "            adduct_matched = quick_search_sorted(feature_mix, 'mz', row[a]-0.005, row[a]+0.005)\n",
    "            if len(adduct_matched)>0:\n",
    "                # adduct_matched.insert(0, 'reference_mz', row[a])\n",
    "                adduct_matched.insert(1, 'reference_name', row['Name'])\n",
    "                adduct_matched.insert(1, 'reference_mz', row[a])\n",
    "                adduct_matched.insert(1,'reference_inchikey', row['inchikey'])\n",
    "                adduct_matched.insert(2, 'reference_adduct', a)\n",
    "\n",
    "                # adduct_matched.insert(3, 'reference_rt', row['reference_rt'])\n",
    "                adduct_matched.insert(4, 'reference_smiles', row['smiles'])\n",
    "                adduct_matched.insert(6, 'reference_mix', row['Mix'])\n",
    "                adduct_matched.insert(7, 'reference_rt', row['RT'])\n",
    "                compound_matched  = pd.concat([compound_matched, adduct_matched], ignore_index=True)\n",
    "            # return compound_matched\n",
    "        if row['RT']==row['RT'] and len(compound_matched)>0:\n",
    "            rt_offsets = abs(compound_matched['rt_apex']-row['RT'])\n",
    "            compound_matched['rt_offset']=rt_offsets\n",
    "            compound_matched = compound_matched[compound_matched['rt_offset']<5/60]\n",
    "            compound_matched.drop(columns=['rt_offset'], inplace =True)\n",
    "        elif len(compound_matched)>0:\n",
    "            compound_matched.sort_values(by = 'ms1_int_max_apex', inplace=True, ascending=False)\n",
    "            compound_matched.drop_duplicates(subset=['reference_adduct'], keep = 'first', inplace=True)\n",
    "\n",
    "            # compound_matched = pd.concat([compound_matched, adduct_matched], ignore_index=True)\n",
    "        mix_matched = pd.concat([mix_matched, compound_matched], ignore_index=True)\n",
    "    return(mix_matched)"
   ]
  },
  {
   "cell_type": "markdown",
   "source": [
    "# Setup workingspace"
   ],
   "metadata": {
    "collapsed": false,
    "pycharm": {
     "name": "#%% md\n"
    }
   }
  },
  {
   "cell_type": "code",
   "execution_count": null,
   "outputs": [],
   "source": [
    "master_dir = 'some_dir' # only line need to edit"
   ],
   "metadata": {
    "collapsed": false,
    "pycharm": {
     "name": "#%%\n"
    }
   }
  },
  {
   "cell_type": "code",
   "execution_count": null,
   "outputs": [],
   "source": [
    "\n",
    "pl_dir = os.path.join(master_dir, 'pl')\n",
    "mzml_dir = os.path.join(master_dir, 'mzml')\n",
    "matched_dir = os.path.join(master_dir, 'matched')\n",
    "for f in [pl_dir, mzml_dir, matched_dir]:\n",
    "    if os.path.exists(f)==False:\n",
    "        os.makedirs(f)"
   ],
   "metadata": {
    "collapsed": false,
    "pycharm": {
     "name": "#%%\n"
    }
   }
  },
  {
   "cell_type": "markdown",
   "source": [
    "# extract features"
   ],
   "metadata": {
    "collapsed": false,
    "pycharm": {
     "name": "#%% md\n"
    }
   }
  },
  {
   "cell_type": "code",
   "execution_count": null,
   "outputs": [],
   "source": [
    "def get_file_list(dir, tail, with_tail = False):\n",
    "    file_list = []\n",
    "    for root, dirs, files in os.walk(dir):\n",
    "        for file in files:\n",
    "            if file.endswith(tail):\n",
    "                if with_tail == True:\n",
    "                    file_list.append(file)\n",
    "                else:\n",
    "                    file_list.append(file.split('.')[0])\n",
    "    return(file_list)"
   ],
   "metadata": {
    "collapsed": false,
    "pycharm": {
     "name": "#%%\n"
    }
   }
  },
  {
   "cell_type": "code",
   "execution_count": 2,
   "outputs": [
    {
     "name": "stderr",
     "output_type": "stream",
     "text": [
      "/Users/fanzhoukong/Documents/GitHub/GT_src/mimas/alphapept/find_features.py:284: RuntimeWarning: divide by zero encountered in divide\n",
      "  feature_sn = feature_apex_xic / feature_noise * 2\n",
      "/Users/fanzhoukong/Documents/GitHub/GT_src/mimas/alphapept/find_features.py:284: RuntimeWarning: invalid value encountered in divide\n",
      "  feature_sn = feature_apex_xic / feature_noise * 2\n"
     ]
    }
   ],
   "source": [
    "mzml_list = (mzml_dir, '.mzML')\n",
    "for f in mzml_list:\n",
    "    ms_file_data = load_mzml_data(os.path.join(mzml_dir, f+'.mzML'))\n",
    "    feature_temp =find_features(ms_file_data)\n",
    "    feature_temp.to_csv(os.path.join(pl_dir, f+'.csv'), index = False)\n",
    "#use for loop to extract all features"
   ],
   "metadata": {
    "collapsed": false,
    "pycharm": {
     "name": "#%%\n"
    }
   }
  },
  {
   "cell_type": "markdown",
   "source": [
    "# map features"
   ],
   "metadata": {
    "collapsed": false,
    "pycharm": {
     "name": "#%% md\n"
    }
   }
  },
  {
   "cell_type": "code",
   "execution_count": 5,
   "outputs": [],
   "source": [
    "std_list = pd.read_csv(os.path.join(master_dir, 'enlongated_list.csv'))\n"
   ],
   "metadata": {
    "collapsed": false,
    "pycharm": {
     "name": "#%%\n"
    }
   }
  },
  {
   "cell_type": "code",
   "execution_count": 8,
   "outputs": [],
   "source": [
    "mapped_all = pd.DataFrame()\n",
    "for mix in std_list['Mix'].unique():\n",
    "    feature_mix = pd.read_csv(os.path.join(pl_dir, mix+'.csv'))\n",
    "    std_list_mix = std_list[std_list['Mix']==mix]\n",
    "    mapped_features = map_features(feature_temp, std_list_mix, adducts=['[M+H]+'])# extedn adducts to all adducts you want\n",
    "    mapped_all = pd.concat([mapped_all, mapped_features], ignore_index=True)"
   ],
   "metadata": {
    "collapsed": false,
    "pycharm": {
     "name": "#%%\n"
    }
   }
  },
  {
   "cell_type": "code",
   "execution_count": 9,
   "outputs": [
    {
     "data": {
      "text/plain": "             mz           reference_inchikey reference_adduct  reference_mz  \\\n0    253.174856  FCUGGFFHQXNXJN-MNRPPXDRSA-N           [M+H]+      253.1798   \n1    170.150286  HDVAWXXJVMJBAR-VHSXEESVSA-N           [M+H]+      170.1539   \n2    170.150581  HDVAWXXJVMJBAR-VHSXEESVSA-N           [M+H]+      170.1539   \n3    170.151767  HDVAWXXJVMJBAR-VHSXEESVSA-N           [M+H]+      170.1539   \n4    170.152457  HDVAWXXJVMJBAR-VHSXEESVSA-N           [M+H]+      170.1539   \n..          ...                          ...              ...           ...   \n161  373.094585  DSLZVSRJTYRBFB-DUHBMQHGSA-N           [M+H]+      373.0981   \n162  138.088637  DZGWFCGJZKJUFP-UHFFFAOYSA-N           [M+H]+      138.0913   \n163  355.100147  CWVRJTMFETXNAD-JUHZACGLSA-N           [M+H]+      355.1024   \n164  355.100495  CWVRJTMFETXNAD-JUHZACGLSA-N           [M+H]+      355.1024   \n165  355.104316  CWVRJTMFETXNAD-JUHZACGLSA-N           [M+H]+      355.1024   \n\n                                      reference_smiles        reference_name  \\\n0    C[C@@]\\1(CC[C@@]2([C@H](CC2(C)C)/C(=C\\C=C1)/CO...       Punctaporonin B   \n1                           C1CCN2CCC[C@H]([C@H]2C1)CO              Lupinine   \n2                           C1CCN2CCC[C@H]([C@H]2C1)CO              Lupinine   \n3                           C1CCN2CCC[C@H]([C@H]2C1)CO              Lupinine   \n4                           C1CCN2CCC[C@H]([C@H]2C1)CO              Lupinine   \n..                                                 ...                   ...   \n161  [C@@H]([C@@H]([C@H](C(=O)O)O)O)([C@@H](C(=O)O)O)O  MUCIC ACID_glycoside   \n162                                  C1=CC(=CC=C1CCN)O              TYRAMINE   \n163  C1[C@H]([C@H]([C@@H](C[C@@]1(C(=O)O)O)OC(=O)/C...      Chlorogenic Acid   \n164  C1[C@H]([C@H]([C@@H](C[C@@]1(C(=O)O)O)OC(=O)/C...      Chlorogenic Acid   \n165  C1[C@H]([C@H]([C@@H](C[C@@]1(C(=O)O)O)OC(=O)/C...      Chlorogenic Acid   \n\n     reference_mix  reference_rt    mz_std  mz_most_abundant  ...  rt_end_idx  \\\n0                1             0  0.000376        253.174856  ...        50.0   \n1                1             0  0.000658        170.150286  ...        19.0   \n2                1             0  0.000222        170.150581  ...        40.0   \n3                1             0  0.000304        170.151767  ...        11.0   \n4                1             0  0.000581        170.152457  ...        27.0   \n..             ...           ...       ...               ...  ...         ...   \n161             15             0  0.000385        373.094585  ...        17.0   \n162             15             0  0.000075        138.088637  ...        75.0   \n163             15             0  0.001623        355.100147  ...        15.0   \n164             15             0  0.000127        355.100495  ...         2.0   \n165             15             0  0.000895        355.104316  ...        24.0   \n\n     sn_ratio  rt_length  rt_right   rt_left    rt_tail        rt  \\\n0         NaN   0.038765  0.007753  0.031012   0.250000  0.077796   \n1         NaN   0.007396  0.002465  0.004931   0.500000  0.044186   \n2         NaN   0.026116  0.020767  0.005349   3.882353  0.077749   \n3         NaN   0.017370  0.004963  0.012407   0.400000  0.024254   \n4         NaN   0.005152  0.000000  0.005152   0.000000  0.069800   \n..        ...        ...       ...       ...        ...       ...   \n161       NaN   0.010050  0.010050  0.000000        inf  0.034150   \n162       NaN   0.178509  0.166475  0.012034  13.833333  0.036492   \n163       NaN   0.002602  0.000000  0.002602   0.000000  0.039200   \n164       NaN   0.002483  0.002483  0.000000        inf  0.004400   \n165       NaN   0.020333  0.005135  0.015199   0.337838  0.056882   \n\n     feature_idx  ms2_idx  msms  \n0           1757      NaN   NaN  \n1           1515      NaN   NaN  \n2           2576      NaN   NaN  \n3            469      NaN   NaN  \n4           2380      NaN   NaN  \n..           ...      ...   ...  \n161         1324      NaN   NaN  \n162         1011      NaN   NaN  \n163         1369      NaN   NaN  \n164          110      NaN   NaN  \n165         1555      NaN   NaN  \n\n[166 rows x 33 columns]",
      "text/html": "<div>\n<style scoped>\n    .dataframe tbody tr th:only-of-type {\n        vertical-align: middle;\n    }\n\n    .dataframe tbody tr th {\n        vertical-align: top;\n    }\n\n    .dataframe thead th {\n        text-align: right;\n    }\n</style>\n<table border=\"1\" class=\"dataframe\">\n  <thead>\n    <tr style=\"text-align: right;\">\n      <th></th>\n      <th>mz</th>\n      <th>reference_inchikey</th>\n      <th>reference_adduct</th>\n      <th>reference_mz</th>\n      <th>reference_smiles</th>\n      <th>reference_name</th>\n      <th>reference_mix</th>\n      <th>reference_rt</th>\n      <th>mz_std</th>\n      <th>mz_most_abundant</th>\n      <th>...</th>\n      <th>rt_end_idx</th>\n      <th>sn_ratio</th>\n      <th>rt_length</th>\n      <th>rt_right</th>\n      <th>rt_left</th>\n      <th>rt_tail</th>\n      <th>rt</th>\n      <th>feature_idx</th>\n      <th>ms2_idx</th>\n      <th>msms</th>\n    </tr>\n  </thead>\n  <tbody>\n    <tr>\n      <th>0</th>\n      <td>253.174856</td>\n      <td>FCUGGFFHQXNXJN-MNRPPXDRSA-N</td>\n      <td>[M+H]+</td>\n      <td>253.1798</td>\n      <td>C[C@@]\\1(CC[C@@]2([C@H](CC2(C)C)/C(=C\\C=C1)/CO...</td>\n      <td>Punctaporonin B</td>\n      <td>1</td>\n      <td>0</td>\n      <td>0.000376</td>\n      <td>253.174856</td>\n      <td>...</td>\n      <td>50.0</td>\n      <td>NaN</td>\n      <td>0.038765</td>\n      <td>0.007753</td>\n      <td>0.031012</td>\n      <td>0.250000</td>\n      <td>0.077796</td>\n      <td>1757</td>\n      <td>NaN</td>\n      <td>NaN</td>\n    </tr>\n    <tr>\n      <th>1</th>\n      <td>170.150286</td>\n      <td>HDVAWXXJVMJBAR-VHSXEESVSA-N</td>\n      <td>[M+H]+</td>\n      <td>170.1539</td>\n      <td>C1CCN2CCC[C@H]([C@H]2C1)CO</td>\n      <td>Lupinine</td>\n      <td>1</td>\n      <td>0</td>\n      <td>0.000658</td>\n      <td>170.150286</td>\n      <td>...</td>\n      <td>19.0</td>\n      <td>NaN</td>\n      <td>0.007396</td>\n      <td>0.002465</td>\n      <td>0.004931</td>\n      <td>0.500000</td>\n      <td>0.044186</td>\n      <td>1515</td>\n      <td>NaN</td>\n      <td>NaN</td>\n    </tr>\n    <tr>\n      <th>2</th>\n      <td>170.150581</td>\n      <td>HDVAWXXJVMJBAR-VHSXEESVSA-N</td>\n      <td>[M+H]+</td>\n      <td>170.1539</td>\n      <td>C1CCN2CCC[C@H]([C@H]2C1)CO</td>\n      <td>Lupinine</td>\n      <td>1</td>\n      <td>0</td>\n      <td>0.000222</td>\n      <td>170.150581</td>\n      <td>...</td>\n      <td>40.0</td>\n      <td>NaN</td>\n      <td>0.026116</td>\n      <td>0.020767</td>\n      <td>0.005349</td>\n      <td>3.882353</td>\n      <td>0.077749</td>\n      <td>2576</td>\n      <td>NaN</td>\n      <td>NaN</td>\n    </tr>\n    <tr>\n      <th>3</th>\n      <td>170.151767</td>\n      <td>HDVAWXXJVMJBAR-VHSXEESVSA-N</td>\n      <td>[M+H]+</td>\n      <td>170.1539</td>\n      <td>C1CCN2CCC[C@H]([C@H]2C1)CO</td>\n      <td>Lupinine</td>\n      <td>1</td>\n      <td>0</td>\n      <td>0.000304</td>\n      <td>170.151767</td>\n      <td>...</td>\n      <td>11.0</td>\n      <td>NaN</td>\n      <td>0.017370</td>\n      <td>0.004963</td>\n      <td>0.012407</td>\n      <td>0.400000</td>\n      <td>0.024254</td>\n      <td>469</td>\n      <td>NaN</td>\n      <td>NaN</td>\n    </tr>\n    <tr>\n      <th>4</th>\n      <td>170.152457</td>\n      <td>HDVAWXXJVMJBAR-VHSXEESVSA-N</td>\n      <td>[M+H]+</td>\n      <td>170.1539</td>\n      <td>C1CCN2CCC[C@H]([C@H]2C1)CO</td>\n      <td>Lupinine</td>\n      <td>1</td>\n      <td>0</td>\n      <td>0.000581</td>\n      <td>170.152457</td>\n      <td>...</td>\n      <td>27.0</td>\n      <td>NaN</td>\n      <td>0.005152</td>\n      <td>0.000000</td>\n      <td>0.005152</td>\n      <td>0.000000</td>\n      <td>0.069800</td>\n      <td>2380</td>\n      <td>NaN</td>\n      <td>NaN</td>\n    </tr>\n    <tr>\n      <th>...</th>\n      <td>...</td>\n      <td>...</td>\n      <td>...</td>\n      <td>...</td>\n      <td>...</td>\n      <td>...</td>\n      <td>...</td>\n      <td>...</td>\n      <td>...</td>\n      <td>...</td>\n      <td>...</td>\n      <td>...</td>\n      <td>...</td>\n      <td>...</td>\n      <td>...</td>\n      <td>...</td>\n      <td>...</td>\n      <td>...</td>\n      <td>...</td>\n      <td>...</td>\n      <td>...</td>\n    </tr>\n    <tr>\n      <th>161</th>\n      <td>373.094585</td>\n      <td>DSLZVSRJTYRBFB-DUHBMQHGSA-N</td>\n      <td>[M+H]+</td>\n      <td>373.0981</td>\n      <td>[C@@H]([C@@H]([C@H](C(=O)O)O)O)([C@@H](C(=O)O)O)O</td>\n      <td>MUCIC ACID_glycoside</td>\n      <td>15</td>\n      <td>0</td>\n      <td>0.000385</td>\n      <td>373.094585</td>\n      <td>...</td>\n      <td>17.0</td>\n      <td>NaN</td>\n      <td>0.010050</td>\n      <td>0.010050</td>\n      <td>0.000000</td>\n      <td>inf</td>\n      <td>0.034150</td>\n      <td>1324</td>\n      <td>NaN</td>\n      <td>NaN</td>\n    </tr>\n    <tr>\n      <th>162</th>\n      <td>138.088637</td>\n      <td>DZGWFCGJZKJUFP-UHFFFAOYSA-N</td>\n      <td>[M+H]+</td>\n      <td>138.0913</td>\n      <td>C1=CC(=CC=C1CCN)O</td>\n      <td>TYRAMINE</td>\n      <td>15</td>\n      <td>0</td>\n      <td>0.000075</td>\n      <td>138.088637</td>\n      <td>...</td>\n      <td>75.0</td>\n      <td>NaN</td>\n      <td>0.178509</td>\n      <td>0.166475</td>\n      <td>0.012034</td>\n      <td>13.833333</td>\n      <td>0.036492</td>\n      <td>1011</td>\n      <td>NaN</td>\n      <td>NaN</td>\n    </tr>\n    <tr>\n      <th>163</th>\n      <td>355.100147</td>\n      <td>CWVRJTMFETXNAD-JUHZACGLSA-N</td>\n      <td>[M+H]+</td>\n      <td>355.1024</td>\n      <td>C1[C@H]([C@H]([C@@H](C[C@@]1(C(=O)O)O)OC(=O)/C...</td>\n      <td>Chlorogenic Acid</td>\n      <td>15</td>\n      <td>0</td>\n      <td>0.001623</td>\n      <td>355.100147</td>\n      <td>...</td>\n      <td>15.0</td>\n      <td>NaN</td>\n      <td>0.002602</td>\n      <td>0.000000</td>\n      <td>0.002602</td>\n      <td>0.000000</td>\n      <td>0.039200</td>\n      <td>1369</td>\n      <td>NaN</td>\n      <td>NaN</td>\n    </tr>\n    <tr>\n      <th>164</th>\n      <td>355.100495</td>\n      <td>CWVRJTMFETXNAD-JUHZACGLSA-N</td>\n      <td>[M+H]+</td>\n      <td>355.1024</td>\n      <td>C1[C@H]([C@H]([C@@H](C[C@@]1(C(=O)O)O)OC(=O)/C...</td>\n      <td>Chlorogenic Acid</td>\n      <td>15</td>\n      <td>0</td>\n      <td>0.000127</td>\n      <td>355.100495</td>\n      <td>...</td>\n      <td>2.0</td>\n      <td>NaN</td>\n      <td>0.002483</td>\n      <td>0.002483</td>\n      <td>0.000000</td>\n      <td>inf</td>\n      <td>0.004400</td>\n      <td>110</td>\n      <td>NaN</td>\n      <td>NaN</td>\n    </tr>\n    <tr>\n      <th>165</th>\n      <td>355.104316</td>\n      <td>CWVRJTMFETXNAD-JUHZACGLSA-N</td>\n      <td>[M+H]+</td>\n      <td>355.1024</td>\n      <td>C1[C@H]([C@H]([C@@H](C[C@@]1(C(=O)O)O)OC(=O)/C...</td>\n      <td>Chlorogenic Acid</td>\n      <td>15</td>\n      <td>0</td>\n      <td>0.000895</td>\n      <td>355.104316</td>\n      <td>...</td>\n      <td>24.0</td>\n      <td>NaN</td>\n      <td>0.020333</td>\n      <td>0.005135</td>\n      <td>0.015199</td>\n      <td>0.337838</td>\n      <td>0.056882</td>\n      <td>1555</td>\n      <td>NaN</td>\n      <td>NaN</td>\n    </tr>\n  </tbody>\n</table>\n<p>166 rows × 33 columns</p>\n</div>"
     },
     "execution_count": 9,
     "metadata": {},
     "output_type": "execute_result"
    }
   ],
   "source": [
    "mapped_all"
   ],
   "metadata": {
    "collapsed": false,
    "pycharm": {
     "name": "#%%\n"
    }
   }
  }
 ],
 "metadata": {
  "kernelspec": {
   "name": "alphapept_env",
   "language": "python",
   "display_name": "alphapept_env"
  },
  "language_info": {
   "codemirror_mode": {
    "name": "ipython",
    "version": 2
   },
   "file_extension": ".py",
   "mimetype": "text/x-python",
   "name": "python",
   "nbconvert_exporter": "python",
   "pygments_lexer": "ipython2",
   "version": "2.7.6"
  }
 },
 "nbformat": 4,
 "nbformat_minor": 0
}