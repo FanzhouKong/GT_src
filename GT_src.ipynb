{
 "cells": [
  {
   "cell_type": "code",
   "execution_count": 6,
   "metadata": {
    "collapsed": true,
    "pycharm": {
     "name": "#%%\n"
    }
   },
   "outputs": [],
   "source": [
    "from mimas.alphapept.find_features import find_features\n",
    "from mimas.alphapept.load_mzml_data import load_mzml_data\n",
    "from mimas.alphapept.find_features import find_features\n",
    "import pandas as pd\n",
    "import os\n",
    "from toolsets.search import quick_search_sorted\n",
    "\n",
    "def map_features(feature_mix, std_list_mix, adducts):\n",
    "    feature_mix.sort_values(by = 'mz', inplace=True, ascending=True)\n",
    "    mix_matched = pd.DataFrame()\n",
    "    for index, row in std_list_mix.iterrows():\n",
    "        compound_matched = pd.DataFrame()\n",
    "\n",
    "        for a in adducts:\n",
    "            adduct_matched = quick_search_sorted(feature_mix, 'mz', row[a]-0.005, row[a]+0.005)\n",
    "            if len(adduct_matched)>0:\n",
    "                # adduct_matched.insert(0, 'reference_mz', row[a])\n",
    "                adduct_matched.insert(1, 'reference_name', row['Name'])\n",
    "                adduct_matched.insert(1, 'reference_mz', row[a])\n",
    "                adduct_matched.insert(1,'reference_inchikey', row['inchikey'])\n",
    "                adduct_matched.insert(2, 'reference_adduct', a)\n",
    "\n",
    "                # adduct_matched.insert(3, 'reference_rt', row['reference_rt'])\n",
    "                adduct_matched.insert(4, 'reference_smiles', row['smiles'])\n",
    "                adduct_matched.insert(6, 'reference_mix', row['Mix'])\n",
    "                adduct_matched.insert(7, 'reference_rt', row['RT'])\n",
    "                compound_matched  = pd.concat([compound_matched, adduct_matched], ignore_index=True)\n",
    "            # return compound_matched\n",
    "        if row['RT']==row['RT'] and len(compound_matched)>0:\n",
    "            rt_offsets = abs(compound_matched['rt_apex']-row['RT'])\n",
    "            compound_matched['rt_offset']=rt_offsets\n",
    "            compound_matched = compound_matched[compound_matched['rt_offset']<5/60]\n",
    "            compound_matched.drop(columns=['rt_offset'], inplace =True)\n",
    "        elif len(compound_matched)>0:\n",
    "            compound_matched.sort_values(by = 'ms1_int_max_apex', inplace=True, ascending=False)\n",
    "            compound_matched.drop_duplicates(subset=['reference_adduct'], keep = 'first', inplace=True)\n",
    "\n",
    "            # compound_matched = pd.concat([compound_matched, adduct_matched], ignore_index=True)\n",
    "        mix_matched = pd.concat([mix_matched, compound_matched], ignore_index=True)\n",
    "    return(mix_matched)"
   ]
  },
  {
   "cell_type": "markdown",
   "source": [
    "# extract features"
   ],
   "metadata": {
    "collapsed": false,
    "pycharm": {
     "name": "#%% md\n"
    }
   }
  },
  {
   "cell_type": "code",
   "execution_count": 4,
   "outputs": [
    {
     "name": "stderr",
     "output_type": "stream",
     "text": [
      "/Users/fanzhoukong/Documents/GitHub/lead_finder/mimas/alphapept/find_features.py:284: RuntimeWarning: divide by zero encountered in divide\n",
      "  feature_sn = feature_apex_xic / feature_noise * 2\n",
      "/Users/fanzhoukong/Documents/GitHub/lead_finder/mimas/alphapept/find_features.py:284: RuntimeWarning: invalid value encountered in divide\n",
      "  feature_sn = feature_apex_xic / feature_noise * 2\n"
     ]
    }
   ],
   "source": [
    "file_name = \"/Users/fanzhoukong/Downloads/Winston0014_MX753152_posBA_Nala-Wallace-Week-6-078.mzml\"\n",
    "ms_file_data = load_mzml_data(file_name)\n",
    "feature_temp =find_features(ms_file_data)\n",
    "#use for loop to extract all features"
   ],
   "metadata": {
    "collapsed": false,
    "pycharm": {
     "name": "#%%\n"
    }
   }
  },
  {
   "cell_type": "markdown",
   "source": [
    "# map features"
   ],
   "metadata": {
    "collapsed": false,
    "pycharm": {
     "name": "#%% md\n"
    }
   }
  },
  {
   "cell_type": "code",
   "execution_count": null,
   "outputs": [],
   "source": [
    "std_list = pd.read_csv(os.path.join('/Users/fanzhoukong/Documents/GitHub/Libgen_data/GT', 'enlongated_list.csv'))\n",
    "mapped_all = pd.DataFrame()\n",
    "for mix in std_list['Mix'].unique():\n",
    "    feature_mix = pd.read_csv('path_to_features')\n",
    "    std_list_mix = std_list[std_list['Mix']==mix]\n",
    "    mapped_features = map_features(feature_mix, std_list_mix, adducts=['[M+H]+'])# extedn adducts to all adducts you want\n",
    "    mapped_all = pd.concat([mapped_all, mapped_features], ignore_index=True)"
   ],
   "metadata": {
    "collapsed": false,
    "pycharm": {
     "name": "#%%\n"
    }
   }
  }
 ],
 "metadata": {
  "kernelspec": {
   "name": "alphapept_env",
   "language": "python",
   "display_name": "alphapept_env"
  },
  "language_info": {
   "codemirror_mode": {
    "name": "ipython",
    "version": 2
   },
   "file_extension": ".py",
   "mimetype": "text/x-python",
   "name": "python",
   "nbconvert_exporter": "python",
   "pygments_lexer": "ipython2",
   "version": "2.7.6"
  }
 },
 "nbformat": 4,
 "nbformat_minor": 0
}